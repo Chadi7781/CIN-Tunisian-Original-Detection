{
 "cells": [
  {
   "cell_type": "markdown",
   "id": "fb1f0d3f",
   "metadata": {},
   "source": [
    "# PAN Card  Tampering Detection\n"
   ]
  },
  {
   "cell_type": "markdown",
   "id": "ff2cd44e",
   "metadata": {},
   "source": [
    "the purpose of this project is to detect tampering PAN card using computer vision. This project will help different organization in detecting whether the id i.e. the PAN card provided to them by their employees or customers or anyone is original or not."
   ]
  },
  {
   "cell_type": "markdown",
   "id": "76af553f",
   "metadata": {},
   "source": []
  },
  {
   "cell_type": "code",
   "execution_count": 3,
   "id": "fcacdca1",
   "metadata": {},
   "outputs": [],
   "source": [
    "#Import necessary libraries: \n",
    "#1 Skimage: Scikit-image, or ski-mage, is an open-source Python package, in this project most of the image processing techniques will be used via scikit-image\n",
    "#2 imutils: Imutils are a series of convenience functions to make basic image processing functions such as translation, rotation, resizing, and displaying images easier with OpenCV.\n",
    "#3 cv2: OpenCV (Open Source Computer Vision Library) is a library of programming functions. Here in this project major reading and writing of the image are done via cv2.\n",
    "#4 PIL: PIL (Python Imaging Library) is a free and open-source additional library for the Python programming language that adds support for opening, manipulating, and saving many different image file formats.\n",
    "\n",
    "#[install packages :\n",
    "# cv2 :pip install opencv-python \n",
    "# imutils : pip install imutils]\n",
    "\n",
    "from skimage.metrics import structural_similarity #1\n",
    "import imutils #2\n",
    "import cv2 #3\n",
    "from PIL import Image #4\n",
    "import requests #5\n"
   ]
  },
  {
   "cell_type": "markdown",
   "id": "a08a7d61",
   "metadata": {},
   "source": [
    "### Scraping original and tampered PAN card from different sources\n"
   ]
  },
  {
   "cell_type": "code",
   "execution_count": null,
   "id": "7498855c",
   "metadata": {},
   "outputs": [],
   "source": [
    "original = Image.open(requests.get('https://www.thestatesman.com/wp-content/uploads/2019/07/pan-card.jpg', stream=True).raw)\n",
    "tampered = Image.open(requests.get('https://assets1.cleartax-cdn.com/s/img/20170526124335/Pan4.png', stream=True).raw)"
   ]
  }
 ],
 "metadata": {
  "kernelspec": {
   "display_name": "Python 3 (ipykernel)",
   "language": "python",
   "name": "python3"
  },
  "language_info": {
   "codemirror_mode": {
    "name": "ipython",
    "version": 3
   },
   "file_extension": ".py",
   "mimetype": "text/x-python",
   "name": "python",
   "nbconvert_exporter": "python",
   "pygments_lexer": "ipython3",
   "version": "3.9.7"
  }
 },
 "nbformat": 4,
 "nbformat_minor": 5
}
